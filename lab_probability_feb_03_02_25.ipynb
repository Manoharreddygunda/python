{
  "nbformat": 4,
  "nbformat_minor": 0,
  "metadata": {
    "colab": {
      "provenance": [],
      "authorship_tag": "ABX9TyOZpyBQtNLQCGP3obOZLBke",
      "include_colab_link": true
    },
    "kernelspec": {
      "name": "python3",
      "display_name": "Python 3"
    },
    "language_info": {
      "name": "python"
    }
  },
  "cells": [
    {
      "cell_type": "markdown",
      "metadata": {
        "id": "view-in-github",
        "colab_type": "text"
      },
      "source": [
        "<a href=\"https://colab.research.google.com/github/Manoharreddygunda/python/blob/main/lab_probability_feb_03_02_25.ipynb\" target=\"_parent\"><img src=\"https://colab.research.google.com/assets/colab-badge.svg\" alt=\"Open In Colab\"/></a>"
      ]
    },
    {
      "cell_type": "code",
      "execution_count": 3,
      "metadata": {
        "colab": {
          "base_uri": "https://localhost:8080/"
        },
        "id": "6OqvQfEiSDEb",
        "outputId": "419ac6c5-3d09-431f-cdcd-fc3edf142ed0"
      },
      "outputs": [
        {
          "output_type": "stream",
          "name": "stdout",
          "text": [
            "50.0\n"
          ]
        }
      ],
      "source": [
        "import numpy as np\n",
        "import pandas as pd\n",
        "data = [35, 45, 40, 60, 55, 50, 65, 70, 60, 75, 50, 55, 45,\n",
        "40, 50]\n",
        "median_numpy = np.median(data)\n",
        "print(median_numpy)\n"
      ]
    },
    {
      "cell_type": "code",
      "source": [
        "import numpy as np\n",
        "import pandas as pd\n",
        "data = [12, 45, 67, 23, 45, 89, 45, 12, 33, 67, 67, 78, 45, 23, 23, 56, 89, 45, 33, 45]\n",
        "median_numpy = np.median(data)\n",
        "print(\"Median using numpy:\", median_numpy)\n",
        "unique, counts = np.unique(data, return_counts=True)\n",
        "mode_numpy = unique[np.argmax(counts)]\n",
        "print(\"Mode using numpy:\", mode_numpy)\n",
        "mode_pandas = pd.Series(data).mode()[0]\n",
        "print(\"Mode using pandas:\", mode_pandas)\n"
      ],
      "metadata": {
        "colab": {
          "base_uri": "https://localhost:8080/"
        },
        "id": "8aJAhtAxS8Zg",
        "outputId": "9b517409-01ea-442b-9c0a-8304466e10b1"
      },
      "execution_count": 6,
      "outputs": [
        {
          "output_type": "stream",
          "name": "stdout",
          "text": [
            "Median using numpy: 45.0\n",
            "Mode using numpy: 45\n",
            "Mode using pandas: 45\n"
          ]
        }
      ]
    },
    {
      "cell_type": "code",
      "source": [
        "import numpy as np\n",
        "import pandas as pd\n",
        "score = [10, 20, 30, 40, 50]\n",
        "freq = [5, 8, 12, 15, 7]\n",
        "df = pd.DataFrame({'Data': score, 'Frequency': freq})\n",
        "expanded_data = np.repeat(df['Data'], df['Frequency'])\n",
        "median = np.median(expanded_data)\n",
        "mode = score[np.argmax(freq)]\n",
        "print(\"Median:\", median)\n",
        "print(\"Mode:\", mode)\n"
      ],
      "metadata": {
        "colab": {
          "base_uri": "https://localhost:8080/"
        },
        "id": "E4mts7xcU2b-",
        "outputId": "cb53796f-e10c-4231-a9c8-e73019a4606c"
      },
      "execution_count": 11,
      "outputs": [
        {
          "output_type": "stream",
          "name": "stdout",
          "text": [
            "Median: 30.0\n",
            "Mode: 40\n"
          ]
        }
      ]
    },
    {
      "cell_type": "code",
      "source": [
        "import pandas as pd\n",
        "scores = [10, 20, 30, 40, 50]\n",
        "frequencies = [5, 8, 12, 15, 7]\n",
        "data = np.repeat(scores, frequencies)\n",
        "mode_value = pd.Series(data).mode()[0]\n",
        "print(\"Mode:\", mode_value)"
      ],
      "metadata": {
        "colab": {
          "base_uri": "https://localhost:8080/"
        },
        "id": "_bQrB9BzbBoU",
        "outputId": "6f1ac67f-f971-4349-b204-e9dbc282b415"
      },
      "execution_count": 12,
      "outputs": [
        {
          "output_type": "stream",
          "name": "stdout",
          "text": [
            "Mode: 40\n"
          ]
        }
      ]
    },
    {
      "cell_type": "code",
      "source": [
        "import pandas as pd\n",
        "\n",
        "class_intervals = [(0, 10), (10, 20), (20, 30), (30, 40), (40, 50)]\n",
        "frequencies = [4, 6, 10, 8, 2]\n",
        "\n",
        "cumulative_freq = pd.Series(frequencies).cumsum()\n",
        "\n",
        "total_freq = sum(frequencies)\n",
        "half_total_freq = total_freq / 2\n",
        "median_class_index = cumulative_freq[cumulative_freq >= half_total_freq].index[0]\n",
        "\n",
        "L = class_intervals[median_class_index][0]\n",
        "F = cumulative_freq[median_class_index - 1] if median_class_index > 0 else 0\n",
        "f = frequencies[median_class_index]\n",
        "h = class_intervals[median_class_index][1] - class_intervals[median_class_index][0]\n",
        "\n",
        "median_value = L + ((half_total_freq - F) / f) * h\n",
        "\n",
        "mode_class_index = frequencies.index(max(frequencies))\n",
        "L_mode = class_intervals[mode_class_index][0]\n",
        "f1 = frequencies[mode_class_index]\n",
        "f0 = frequencies[mode_class_index - 1] if mode_class_index > 0 else 0\n",
        "f2 = frequencies[mode_class_index + 1] if mode_class_index + 1 < len(frequencies) else 0\n",
        "\n",
        "mode_value = L_mode + ((f1 - f0) / (2 * f1 - f0 - f2)) * h\n",
        "\n",
        "print(\"Median:\", median_value)\n",
        "print(\"Mode:\", mode_value)"
      ],
      "metadata": {
        "colab": {
          "base_uri": "https://localhost:8080/"
        },
        "id": "RoVHKpLwcbuU",
        "outputId": "6e46aa3b-7264-45e8-baf7-45a01c20534b"
      },
      "execution_count": 13,
      "outputs": [
        {
          "output_type": "stream",
          "name": "stdout",
          "text": [
            "Median: 25.0\n",
            "Mode: 26.666666666666664\n"
          ]
        }
      ]
    }
  ]
}